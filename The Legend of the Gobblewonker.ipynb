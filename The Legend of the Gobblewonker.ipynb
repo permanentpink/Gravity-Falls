{
 "metadata": {
  "name": "",
  "signature": "sha256:1317ab0a48fdb589065de23e5d65d79e7b8286a9eda892e5a03b3db7a3708e4e"
 },
 "nbformat": 3,
 "nbformat_minor": 0,
 "worksheets": [
  {
   "cells": [
    {
     "cell_type": "markdown",
     "metadata": {},
     "source": [
      "# Link to Episode\n",
      "http://gravityfalls.wikia.com/wiki/The_Legend_of_the_Gobblewonker\n",
      "\n",
      "# Secrets\n",
      "1. Dipper mentions their encounter with the gnomes in \"Tourist Trapped,\" and Mabel presents some gnome beard hair she's saved.\n",
      "1. An advertisement for the Tent of Telepathy displaying Gideon Gleeful is shown, foreshadowing his debut in \"The Hand That Rocks the Mabel.\"\n",
      "![Alt text](https://i.imgur.com/CORUdPk.jpg)\n",
      "1. Stan states Ben Franklin looked like a woman, foreshadowing the secret documents found in \"Irrational Treasure\" that confirm he was, in fact, a woman.\n",
      "1. Blendin Blandin from \"The Time Traveler's Pig\" is seen picking up Mabel's calculator.\n",
      "1. Xyler and Craz, the boys that appeared in Mabel's imagination of the human-sized hamster ball, later appear in \"Dreamscaperers.\"\n",
      "1. The Gravity Falls Gossiper, which appears in \"Headhunters,\" reported on Old Man McGucket's homicidal pterodactyl-tron.\n",
      "\n",
      "# Ciphers\n",
      "\n",
      "|Cryptogram(s) | Decoded |\n",
      "|:---------------:|:---------:|\n",
      "|\tQHAW ZHHN: UHWXUQ WR EXWW LVODQG.\t|NEXT WEEK: RETURN TO BUTT ISLAND.|\n"
     ]
    }
   ],
   "metadata": {}
  }
 ]
}
