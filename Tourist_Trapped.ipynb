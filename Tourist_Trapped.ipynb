{
 "metadata": {
  "name": "",
  "signature": "sha256:42598f1f8cc8a9112c6e569e2965486805093e3f95bf3f7771ef9d2a5f58a66c"
 },
 "nbformat": 3,
 "nbformat_minor": 0,
 "worksheets": [
  {
   "cells": [
    {
     "cell_type": "markdown",
     "metadata": {},
     "source": [
      "# Link to Episode\n",
      "http://gravityfalls.wikia.com/wiki/Tourist_Trapped\n",
      "\n",
      "# Secrets\n",
      "1. Blendin Blandin appears in the bushes from \"The Time Traveler's Pig.\"\n",
      "1. Stan's secret behind the vending machine first appears, which will later be addressed in \"Dreamscaperers\" and \"Gideon Rises.\"\n",
      "\n",
      "# Ciphers\n",
      "\n",
      "| Cryptogram(s) | Decoded |\n",
      "|:---------------:|:---------:|\n",
      "| ZHOFRPH WR JUDYLWB IDOOV. | WELCOME TO GRAVITY FALLS.|"
     ]
    }
   ],
   "metadata": {}
  }
 ]
}
